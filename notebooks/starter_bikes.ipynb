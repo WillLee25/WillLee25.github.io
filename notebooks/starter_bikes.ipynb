{
  "nbformat": 4,
  "nbformat_minor": 0,
  "metadata": {
    "colab": {
      "name": "starter_bikes.ipynb",
      "provenance": []
    },
    "kernelspec": {
      "name": "python3",
      "display_name": "Python 3"
    }
  },
  "cells": [
    {
      "cell_type": "code",
      "metadata": {
        "id": "mA0HPVmIBT4C"
      },
      "source": [
        "import pandas as pd\n",
        "import tensorflow as tf\n",
        "from tensorflow import keras\n",
        "from tensorflow.keras import layers\n",
        "\n",
        "bikes = pd.read_csv('https://raw.githubusercontent.com/byui-cse/cse450-course/master/data/bikes.csv')"
      ],
      "execution_count": null,
      "outputs": []
    },
    {
      "cell_type": "code",
      "metadata": {
        "id": "StiU5QcPPxqQ"
      },
      "source": [
        "# Core Libraries\n",
        "import pandas as pd\n",
        "import numpy as np\n",
        "import matplotlib.pyplot as plt\n",
        "\n",
        "# Scikit-learn for preprocessing and metrics\n",
        "from sklearn.model_selection import train_test_split\n",
        "from sklearn.preprocessing import StandardScaler\n",
        "from sklearn.metrics import mean_squared_error\n",
        "\n",
        "# TensorFlow / Keras for neural networks\n",
        "import tensorflow as tf\n",
        "from tensorflow.keras.models import Sequential\n",
        "from tensorflow.keras.layers import Dense\n",
        "from tensorflow.keras.callbacks import EarlyStopping\n",
        "\n",
        "\n",
        "# Load data\n",
        "bikes = pd.read_csv('https://raw.githubusercontent.com/byui-cse/cse450-course/master/data/bikes.csv')"
      ],
      "execution_count": null,
      "outputs": []
    },
    {
      "cell_type": "code",
      "metadata": {
        "id": "ALLMN63FPyEQ"
      },
      "source": [
        "print(daily['dteday'].max())\n",
        "print(daily.tail())\n"
      ],
      "execution_count": null,
      "outputs": []
    },
    {
      "cell_type": "code",
      "metadata": {
        "id": "RnGBwGVZPyyh"
      },
      "source": [
        "#Chunk 1: Data Preparation (Updated for Dictionary)\n",
        "\n",
        "# Parse date and create datetime features\n",
        "bikes['dteday'] = pd.to_datetime(bikes['dteday'])\n",
        "\n",
        "# Group by day to get total rentals per day\n",
        "daily = bikes.groupby('dteday').agg({\n",
        "    'temp_c': 'mean',\n",
        "    'feels_like_c': 'mean',\n",
        "    'hum': 'mean',\n",
        "    'windspeed': 'mean',\n",
        "    'holiday': 'first',\n",
        "    'workingday': 'first',\n",
        "    'season': 'first',\n",
        "    'weathersit': 'mean',\n",
        "    'casual': 'sum',\n",
        "    'registered': 'sum'\n",
        "}).reset_index()\n",
        "\n",
        "# Create total count\n",
        "daily['count'] = daily['casual'] + daily['registered']\n",
        "\n",
        "# Time-based features\n",
        "daily['day_of_week'] = daily['dteday'].dt.dayofweek\n",
        "daily['month'] = daily['dteday'].dt.month\n",
        "\n",
        "# Cyclical encoding for day of week and month\n",
        "daily['day_sin'] = np.sin(2 * np.pi * daily['day_of_week'] / 7)\n",
        "daily['day_cos'] = np.cos(2 * np.pi * daily['day_of_week'] / 7)\n",
        "daily['month_sin'] = np.sin(2 * np.pi * daily['month'] / 12)\n",
        "daily['month_cos'] = np.cos(2 * np.pi * daily['month'] / 12)\n",
        "\n",
        "# Final features\n",
        "features = ['temp_c', 'feels_like_c', 'hum', 'windspeed', 'holiday',\n",
        "            'workingday', 'season', 'weathersit', 'day_sin', 'day_cos',\n",
        "            'month_sin', 'month_cos']\n",
        "target = 'count'\n",
        "\n",
        "# Use October for testing\n",
        "train_bikes = daily[daily['dteday'] < '2023-10-01']\n",
        "test_bikes = daily[(daily['dteday'] >= '2023-10-01') & (daily['dteday'] <= '2023-10-31')]\n",
        "\n",
        "\n",
        "X_train = train_bikes[features]\n",
        "y_train = train_bikes[target]\n",
        "X_test = test_bikes[features]\n",
        "y_test = test_bikes[target]\n",
        "\n",
        "# Normalize features\n",
        "scaler = StandardScaler()\n",
        "X_train_scaled = scaler.fit_transform(X_train)\n",
        "X_test_scaled = scaler.transform(X_test)\n"
      ],
      "execution_count": null,
      "outputs": []
    },
    {
      "cell_type": "code",
      "metadata": {
        "id": "CVSfaqgKPzE2"
      },
      "source": [
        "#Chunk 2: Model Training, Prediction, and Visualization\n",
        "\n",
        "# Build the model\n",
        "model = Sequential([\n",
        "    Dense(64, input_dim=X_train.shape[1], activation='relu'),\n",
        "    Dense(32, activation='relu'),\n",
        "    Dense(1)\n",
        "])\n",
        "\n",
        "model.compile(optimizer='adam', loss='mse')\n",
        "\n",
        "# Train the model\n",
        "early_stop = EarlyStopping(monitor='val_loss', patience=10, restore_best_weights=True)\n",
        "history = model.fit(X_train_scaled, y_train,\n",
        "                    validation_split=0.2,\n",
        "                    epochs=100,\n",
        "                    callbacks=[early_stop],\n",
        "                    verbose=1)\n",
        "\n",
        "# Predict on test data (Nov–Dec)\n",
        "predictions = model.predict(X_test_scaled).flatten()\n",
        "\n",
        "# Create results DataFrame\n",
        "results = test_bikes[['dteday']].copy()\n",
        "results['predicted_count'] = predictions\n",
        "results['actual_count'] = y_test.values\n",
        "\n",
        "# Save predictions to CSV\n",
        "results.to_csv('bike_predictions_nov_dec.csv', index=False)\n",
        "\n",
        "# Plot predictions vs actuals\n",
        "plt.figure(figsize=(10,5))\n",
        "plt.plot(results['dteday'], results['actual_count'], label='Actual')\n",
        "plt.plot(results['dteday'], results['predicted_count'], label='Predicted')\n",
        "plt.xlabel('Date')\n",
        "plt.ylabel('Bike Rentals')\n",
        "plt.title('Predicted vs Actual Rentals (Nov–Dec)')\n",
        "plt.legend()\n",
        "plt.xticks(rotation=45)\n",
        "plt.tight_layout()\n",
        "plt.show()\n",
        "\n"
      ],
      "execution_count": null,
      "outputs": []
    }
  ]
}